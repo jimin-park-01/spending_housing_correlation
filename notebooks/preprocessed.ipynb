{
  "nbformat": 4,
  "nbformat_minor": 0,
  "metadata": {
    "colab": {
      "provenance": []
    },
    "kernelspec": {
      "name": "python3",
      "display_name": "Python 3"
    },
    "language_info": {
      "name": "python"
    }
  },
  "cells": [
    {
      "cell_type": "markdown",
      "source": [
        "# 구글 드라이브 마운트"
      ],
      "metadata": {
        "id": "fGPkemakFDCu"
      }
    },
    {
      "cell_type": "code",
      "source": [
        "from google.colab import drive\n",
        "drive.mount('/content/drive')"
      ],
      "metadata": {
        "id": "o1nyL8E3kLC_",
        "colab": {
          "base_uri": "https://localhost:8080/"
        },
        "outputId": "a7fc91b2-aa8c-4eae-e898-2716f52eb127"
      },
      "execution_count": 1,
      "outputs": [
        {
          "output_type": "stream",
          "name": "stdout",
          "text": [
            "Drive already mounted at /content/drive; to attempt to forcibly remount, call drive.mount(\"/content/drive\", force_remount=True).\n"
          ]
        }
      ]
    },
    {
      "cell_type": "code",
      "source": [
        "# 드라이브 경로 지정\n",
        "zip_folder = \"/content/drive/MyDrive/my_ws/SeSAC_Python/파이썬 프젝 데이터 모음\"\n",
        "\n",
        "import glob, os\n",
        "zip_files = glob.glob(os.path.join(zip_folder, \"**\", \"*.zip\"), recursive=True)\n",
        "print(zip_files)"
      ],
      "metadata": {
        "colab": {
          "base_uri": "https://localhost:8080/"
        },
        "id": "Tkm_-6ssiIeh",
        "outputId": "8375b3e6-d140-4259-82bb-c8a86b4465c2"
      },
      "execution_count": 2,
      "outputs": [
        {
          "output_type": "stream",
          "name": "stdout",
          "text": [
            "['/content/drive/MyDrive/my_ws/SeSAC_Python/파이썬 프젝 데이터 모음/카드소비 데이터_202409.zip', '/content/drive/MyDrive/my_ws/SeSAC_Python/파이썬 프젝 데이터 모음/카드소비 데이터_202408.zip', '/content/drive/MyDrive/my_ws/SeSAC_Python/파이썬 프젝 데이터 모음/카드소비 데이터_202405.zip', '/content/drive/MyDrive/my_ws/SeSAC_Python/파이썬 프젝 데이터 모음/카드소비 데이터_202406.zip', '/content/drive/MyDrive/my_ws/SeSAC_Python/파이썬 프젝 데이터 모음/카드소비 데이터_202407.zip', '/content/drive/MyDrive/my_ws/SeSAC_Python/파이썬 프젝 데이터 모음/카드소비 데이터_202403.zip', '/content/drive/MyDrive/my_ws/SeSAC_Python/파이썬 프젝 데이터 모음/카드소비 데이터_202404.zip', '/content/drive/MyDrive/my_ws/SeSAC_Python/파이썬 프젝 데이터 모음/카드소비 데이터_202402.zip', '/content/drive/MyDrive/my_ws/SeSAC_Python/파이썬 프젝 데이터 모음/카드소비 데이터_202401.zip', '/content/drive/MyDrive/my_ws/SeSAC_Python/파이썬 프젝 데이터 모음/카드소비 데이터_202412.zip', '/content/drive/MyDrive/my_ws/SeSAC_Python/파이썬 프젝 데이터 모음/카드소비 데이터_202411.zip', '/content/drive/MyDrive/my_ws/SeSAC_Python/파이썬 프젝 데이터 모음/카드소비 데이터_202410.zip']\n"
          ]
        }
      ]
    },
    {
      "cell_type": "markdown",
      "source": [
        "# 행정구역 코드 전처리"
      ],
      "metadata": {
        "id": "IaCmP4mz5csv"
      }
    },
    {
      "cell_type": "code",
      "source": [
        "import pandas as pd\n",
        "\n",
        "# txt 파일 경로\n",
        "file_path = \"/content/drive/MyDrive/my_ws/SeSAC_Python/법정동_행정구역 코드.txt\"\n",
        "\n",
        "# 파일 읽기\n",
        "df = pd.read_csv(file_path, sep=\"|\", encoding=\"cp949\", dtype=str)\n",
        "\n",
        "# 필요한 컬럼만 추출\n",
        "df_selected = df[[\"ADM_CD\", \"ADM_SECT_NM\"]].drop_duplicates()\n",
        "\n",
        "# 10자리 코드에서 앞 8자리만 사용 → 시군구 단위\n",
        "df_selected[\"ADM_CD\"] = df_selected[\"ADM_CD\"].str[:8]\n",
        "\n",
        "# 뒷 두자리가 \"00\"인 경우만 필터링 (시군구 단위)\n",
        "df_sgg = df_selected[df_selected[\"ADM_CD\"].str.endswith(\"00\")][[\"ADM_CD\", \"ADM_SECT_NM\"]].drop_duplicates()\n",
        "\n",
        "# 저장\n",
        "output_path = \"/content/drive/MyDrive/경기도_행정구역코드_시군구.csv\"\n",
        "df_sgg.to_csv(output_path, index=False, encoding=\"utf-8-sig\")\n",
        "\n",
        "print(\"✅ 저장 완료:\", output_path)\n",
        "print(df_sgg.head(20))"
      ],
      "metadata": {
        "id": "GDiDuc4f5cSI"
      },
      "execution_count": null,
      "outputs": []
    },
    {
      "cell_type": "markdown",
      "source": [
        "# 경기 카드소비 데이터 전처리"
      ],
      "metadata": {
        "id": "pfpjpI_-5h2R"
      }
    },
    {
      "cell_type": "code",
      "source": [
        "import pandas as pd\n",
        "import zipfile, glob, io, os\n",
        "\n",
        "zip_folder = \"/content/drive/MyDrive/my_ws/SeSAC_Python/파이썬 프젝 데이터 모음\"\n",
        "\n",
        "zip_files = glob.glob(os.path.join(zip_folder, \"*.zip\"))\n",
        "df_list = []\n",
        "\n",
        "for zf in zip_files:\n",
        "    with zipfile.ZipFile(zf, 'r') as zip_ref:\n",
        "        for fname in zip_ref.namelist():\n",
        "            if not fname.endswith(\".csv\"):\n",
        "                continue\n",
        "            with zip_ref.open(fname) as f:\n",
        "                try:\n",
        "                    temp = pd.read_csv(f, encoding=\"utf-8\")\n",
        "                except:\n",
        "                    try:\n",
        "                        f.seek(0)\n",
        "                        temp = pd.read_csv(f, encoding=\"cp949\")\n",
        "                    except:\n",
        "                        f.seek(0)\n",
        "                        temp = pd.read_csv(io.TextIOWrapper(f, encoding=\"latin1\", errors=\"replace\"))\n",
        "\n",
        "                # 대분류/소분류 컬럼이 있을 때만 추출\n",
        "                if {\"card_tpbuz_nm_1\",\"card_tpbuz_nm_2\"}.issubset(temp.columns):\n",
        "                    df_list.append(temp[[\"card_tpbuz_nm_1\",\"card_tpbuz_nm_2\"]])\n",
        "\n",
        "# 하나로 합치고 중복 제거\n",
        "category_map = (\n",
        "    pd.concat(df_list, ignore_index=True)\n",
        "      .drop_duplicates()\n",
        "      .sort_values([\"card_tpbuz_nm_1\",\"card_tpbuz_nm_2\"])\n",
        "      .reset_index(drop=True)\n",
        ")\n",
        "\n",
        "# 저장\n",
        "output_path = \"/content/drive/MyDrive/my_ws/SeSAC_Python/업종_대분류_소분류_전체매핑.csv\"\n",
        "category_map.to_csv(output_path, index=False, encoding=\"utf-8-sig\")\n",
        "\n",
        "print(\"✅ 전체 매핑 저장 완료:\", output_path)\n",
        "print(category_map.head(20))"
      ],
      "metadata": {
        "id": "xLcvVE6vtv_h"
      },
      "execution_count": null,
      "outputs": []
    },
    {
      "cell_type": "code",
      "source": [
        "# category_map을 CSV로 저장\n",
        "output_path = \"/content/drive/MyDrive/my_ws/SeSAC_Python/업종_대분류_소분류_매핑.csv\"\n",
        "category_map.to_csv(output_path, index=False, encoding=\"utf-8-sig\")\n",
        "\n",
        "print(\"✅ 저장 완료:\", output_path)"
      ],
      "metadata": {
        "id": "XMmP_Jp0tw0Y"
      },
      "execution_count": null,
      "outputs": []
    },
    {
      "cell_type": "code",
      "source": [
        "import pandas as pd\n",
        "import zipfile, glob, os, io\n",
        "\n",
        "# ======================\n",
        "# 0. 경로 설정\n",
        "# ======================\n",
        "zip_folder = \"/content/drive/MyDrive/my_ws/SeSAC_Python/파이썬 프젝 데이터 모음\"\n",
        "code_path = \"/content/drive/MyDrive/my_ws/SeSAC_Python/경기도_행정구역코드_시군구.csv\"\n",
        "\n",
        "# ======================\n",
        "# 1) 생활형 / 비생활형 기준\n",
        "# ======================\n",
        "living_keywords = [\n",
        "    \"건강/기호식품\",\"서적/도서\",\"선물/완구\",\"스포츠/레져용품\",\"음/식료품소매\",\n",
        "    \"의복/의류\",\"인테리어/가정용품\",\"종합소매점\",\"패션잡화\",\"기타용품\",\n",
        "    \"가전제품\",\"유아용품\",\"화장품소매\",\n",
        "    \"세탁/가사서비스\",\"수리서비스\",\"보안/운송\",\"연료판매\",\"사우나/휴게시설\",\n",
        "    \"차량관리/서비스\",\"차량관리/부품\",\"음식배달서비스\",\"교통서비스\",\"미용서비스\",\n",
        "    \"의약/의료품\",\"일반병원\",\"종합병원\",\"특화병원\",\"수의업\",\"기타의료\",\n",
        "    \"입시학원\",\"유아교육\",\"외국어학원\",\"예체능계학원\",\"독서실/고시원\",\n",
        "    \"기타교육\",\"기술/직업교육학원\",\"자동차학원\",\n",
        "    \"고기요리\",\"닭/오리요리\",\"별식/퓨전요리\",\"부페\",\"분식\",\"양식\",\n",
        "    \"일식/수산물\",\"제과/제빵/떡/케익\",\"중식\",\"커피/음료\",\"패스트푸드\",\"한식\"\n",
        "]\n",
        "\n",
        "nonliving_keywords = [\n",
        "    \"경기관람\",\"공연관람\",\"문화서비스\",\"전시장\",\"방송/미디어\",\n",
        "    \"악기/공예\",\"숙박\",\"요가/단전/마사지\",\"일반스포츠\",\"취미/오락\",\n",
        "    \"간이주점\",\"유흥주점\",\"여행/유학대행\"\n",
        "]\n",
        "\n",
        "def classify_use(name: str) -> str:\n",
        "    if not isinstance(name, str) or not name.strip():\n",
        "        return \"미분류\"\n",
        "    n = name.strip()\n",
        "    if n in living_keywords:\n",
        "        return \"생활형\"\n",
        "    if n in nonliving_keywords:\n",
        "        return \"비생활형\"\n",
        "    return \"기타\"\n",
        "\n",
        "# ======================\n",
        "# 2. 행정구역 코드 매핑\n",
        "# ======================\n",
        "code_map = pd.read_csv(code_path, dtype=str)\n",
        "code_map = code_map[[\"ADM_CD\", \"ADM_SECT_NM\"]].drop_duplicates()\n",
        "code_map.rename(columns={\"ADM_CD\": \"admi_cty_no\"}, inplace=True)\n",
        "\n",
        "# ======================\n",
        "# 3. ZIP 파일 탐색 & 처리\n",
        "# ======================\n",
        "zip_files = glob.glob(os.path.join(zip_folder, \"*.zip\"))\n",
        "df_list = []\n",
        "\n",
        "for zf in zip_files:\n",
        "    base = os.path.basename(zf)\n",
        "    year = int(base[-10:-6])\n",
        "    month = int(base[-6:-4])\n",
        "    quarter = (month - 1) // 3 + 1\n",
        "\n",
        "    with zipfile.ZipFile(zf, 'r') as zip_ref:\n",
        "        for fname in zip_ref.namelist():\n",
        "            if not fname.endswith(\".csv\"):\n",
        "                continue\n",
        "            with zip_ref.open(fname) as f:\n",
        "                try:\n",
        "                    temp = pd.read_csv(f, encoding=\"utf-8\")\n",
        "                except:\n",
        "                    try:\n",
        "                        f.seek(0)\n",
        "                        temp = pd.read_csv(f, encoding=\"cp949\")\n",
        "                    except:\n",
        "                        f.seek(0)\n",
        "                        temp = pd.read_csv(io.TextIOWrapper(f, encoding=\"latin1\", errors=\"replace\"))\n",
        "\n",
        "                needed_cols = {\"amt\", \"admi_cty_no\", \"card_tpbuz_nm_2\"}\n",
        "                if not needed_cols.issubset(temp.columns):\n",
        "                    if \"admi_dong_no\" in temp.columns and \"admi_cty_no\" not in temp.columns:\n",
        "                        temp = temp.rename(columns={\"admi_dong_no\": \"admi_cty_no\"})\n",
        "                        if not needed_cols.issubset(temp.columns):\n",
        "                            continue\n",
        "                    else:\n",
        "                        continue\n",
        "\n",
        "                temp[\"card_tpbuz_nm_2\"] = temp[\"card_tpbuz_nm_2\"].astype(str).str.strip()\n",
        "                temp[\"구분\"] = temp[\"card_tpbuz_nm_2\"].apply(classify_use)\n",
        "\n",
        "                grouped = temp.groupby([\"admi_cty_no\", \"구분\"], as_index=False)[\"amt\"].sum()\n",
        "                grouped[\"연도\"] = year\n",
        "                grouped[\"분기\"] = quarter\n",
        "                df_list.append(grouped)\n",
        "\n",
        "# ======================\n",
        "# 4. 통합 및 매핑\n",
        "# ======================\n",
        "df_final = pd.concat(df_list, ignore_index=True)\n",
        "df_final[\"admi_cty_no\"] = df_final[\"admi_cty_no\"].astype(str)\n",
        "code_map[\"admi_cty_no\"] = code_map[\"admi_cty_no\"].astype(str)\n",
        "df_final = df_final.merge(code_map, on=\"admi_cty_no\", how=\"left\")\n",
        "\n",
        "# ======================\n",
        "# 5. 컬럼 정리 & 분기 합산\n",
        "# ======================\n",
        "df_final = (\n",
        "    df_final\n",
        "    .groupby([\"ADM_SECT_NM\", \"연도\", \"분기\", \"구분\"], as_index=False)[\"amt\"]\n",
        "    .sum()\n",
        "    .rename(columns={\"ADM_SECT_NM\": \"지역\", \"amt\": \"소비금액\"})\n",
        ")\n",
        "\n",
        "# ======================\n",
        "# 6. 전체 합계 추가\n",
        "# ======================\n",
        "df_total = (\n",
        "    df_final.groupby([\"지역\",\"연도\",\"분기\"], as_index=False)[\"소비금액\"].sum()\n",
        ")\n",
        "df_total[\"구분\"] = \"전체\"\n",
        "\n",
        "# 합치기\n",
        "df_final = pd.concat([df_final, df_total], ignore_index=True)\n",
        "\n",
        "# ======================\n",
        "# 7. 보기 좋은 단위\n",
        "# ======================\n",
        "df_final[\"소비금액(억)\"] = (df_final[\"소비금액\"] / 1e8).round(1)\n",
        "df_final[\"소비금액(억표시)\"] = df_final[\"소비금액(억)\"].apply(lambda x: f\"{x:,.1f} 억원\")\n",
        "\n",
        "# ======================\n",
        "# 8. 정렬\n",
        "# ======================\n",
        "df_sorted = df_final.sort_values(\n",
        "    by=[\"연도\",\"분기\",\"소비금액\"],\n",
        "    ascending=[True, True, False]\n",
        ").reset_index(drop=True)\n",
        "\n",
        "# ======================\n",
        "# 9. 저장\n",
        "# ======================\n",
        "output_path = \"/content/drive/MyDrive/my_ws/SeSAC_Python/경기_카드소비_시군구_분기별_생활비생활_전체합계포함.csv\"\n",
        "df_sorted.to_csv(output_path, index=False, encoding=\"utf-8-sig\")\n",
        "\n",
        "print(\"✅ 최종 데이터 생성 완료 및 정렬 완료:\", output_path)\n",
        "print(df_sorted.head(15))"
      ],
      "metadata": {
        "colab": {
          "base_uri": "https://localhost:8080/"
        },
        "id": "PPP0jUptniyq",
        "outputId": "00354ace-0f37-42e4-ef33-b11f45398a11"
      },
      "execution_count": null,
      "outputs": [
        {
          "output_type": "stream",
          "name": "stdout",
          "text": [
            "✅ 최종 데이터 생성 완료 및 정렬 완료: /content/drive/MyDrive/my_ws/SeSAC_Python/경기_카드소비_시군구_분기별_생활비생활_전체합계포함.csv\n",
            "                  지역    연도  분기   구분          소비금액  소비금액(억)   소비금액(억표시)\n",
            "0   경기도 수원시 영통구 광교1동  2024   1   전체  159391467964   1593.9  1,593.9 억원\n",
            "1   경기도 수원시 영통구 광교1동  2024   1  생활형  148284566769   1482.8  1,482.8 억원\n",
            "2       경기도 화성시 동탄6동  2024   1   전체  128045029274   1280.5  1,280.5 억원\n",
            "3       경기도 화성시 동탄6동  2024   1  생활형  119892430235   1198.9  1,198.9 억원\n",
            "4   경기도 안산시 단원구 선부3동  2024   1   전체   96587649854    965.9    965.9 억원\n",
            "5   경기도 안산시 단원구 선부3동  2024   1  생활형   89956716514    899.6    899.6 억원\n",
            "6     경기도 수원시 팔달구 지동  2024   1   전체   54109669250    541.1    541.1 억원\n",
            "7     경기도 수원시 팔달구 지동  2024   1  생활형   52431339310    524.3    524.3 억원\n",
            "8    경기도 안산시 상록구 반월동  2024   1   전체   38221367646    382.2    382.2 억원\n",
            "9    경기도 안산시 상록구 반월동  2024   1  생활형   36719286087    367.2    367.2 억원\n",
            "10       경기도 하남시 초이동  2024   1   전체   26749120747    267.5    267.5 억원\n",
            "11  경기도 안양시 동안구 호계3동  2024   1   전체   25217937578    252.2    252.2 억원\n",
            "12       경기도 하남시 초이동  2024   1  생활형   24537971087    245.4    245.4 억원\n",
            "13  경기도 안양시 만안구 석수2동  2024   1   전체   24018630233    240.2    240.2 억원\n",
            "14  경기도 안양시 동안구 호계3동  2024   1  생활형   22838810346    228.4    228.4 억원\n"
          ]
        }
      ]
    },
    {
      "cell_type": "code",
      "source": [
        "# 구분이 '기타'인 데이터만 추출\n",
        "df_etc = df_final[df_final[\"구분\"] == \"기타\"]\n",
        "\n",
        "# 어떤 업종(card_tpbuz_nm_2)이 '기타'로 분류되었는지 보고 싶다면\n",
        "# (원본 temp에서 바로 확인 필요)\n",
        "etc_list = temp[temp[\"card_tpbuz_nm_2\"].apply(classify_use) == \"기타\"][\"card_tpbuz_nm_2\"].unique()\n",
        "print(\"기타 분류 업종:\", etc_list)"
      ],
      "metadata": {
        "colab": {
          "base_uri": "https://localhost:8080/"
        },
        "id": "iR7gbZV7tcdA",
        "outputId": "6851ec17-e27a-434e-8e0c-73af931ecdc1"
      },
      "execution_count": null,
      "outputs": [
        {
          "output_type": "stream",
          "name": "stdout",
          "text": [
            "기타 분류 업종: ['사무/교육용품' '차량판매' '제조/도매' '광고/인쇄/인화' '부동산' '무점포서비스' '회비/공과금' '휴게소/대형업체'\n",
            " '인터넷쇼핑' '기타결제' '학교' '기업' '단체' '방문판매' '전문서비스' '가례서비스' '금융상품/서비스' '렌탈서비스'\n",
            " '시스템/통신' '공공기관' '종교']\n"
          ]
        }
      ]
    },
    {
      "cell_type": "code",
      "source": [
        "import re\n",
        "import pandas as pd\n",
        "\n",
        "# df_sorted 가 이미 만들어져 있다고 가정 (지역, 연도, 분기, 구분, 소비금액 …)\n",
        "\n",
        "# ---------------------------------------\n",
        "# 1) 지역 문자열에서 \"시만\" 또는 \"시+구\"를 추출하는 함수\n",
        "# ---------------------------------------\n",
        "def extract_match_region(name: str) -> str:\n",
        "    \"\"\"\n",
        "    예시\n",
        "    - '경기도 수원시 영통구 광교1동' -> '경기도 수원시 영통구'\n",
        "    - '경기도 과천시 별양동'         -> '경기도 과천시'\n",
        "    - '경기도 양평군 양평읍'         -> '경기도 양평군'\n",
        "    \"\"\"\n",
        "    if not isinstance(name, str):\n",
        "        return name\n",
        "    toks = name.split()\n",
        "\n",
        "    # 시/군/구 토큰 위치 찾기\n",
        "    si_idx = None\n",
        "    gu_idx = None\n",
        "\n",
        "    for i, t in enumerate(toks):\n",
        "        if t.endswith(\"시\") or t.endswith(\"군\"):\n",
        "            si_idx = i\n",
        "            # 이후에 '구'가 있으면 그 위치 기억\n",
        "            for j in range(i+1, len(toks)):\n",
        "                if toks[j].endswith(\"구\"):\n",
        "                    gu_idx = j\n",
        "                    break\n",
        "            break\n",
        "        # (간혹 바로 '구'부터 나오는 데이터 방어)\n",
        "        if t.endswith(\"구\") and gu_idx is None:\n",
        "            gu_idx = i\n",
        "\n",
        "    # 우선순위: 시 찾음 → 그 뒤 구 있으면 시~구, 없으면 시까지\n",
        "    if si_idx is not None:\n",
        "        if gu_idx is not None and gu_idx > si_idx:\n",
        "            return \" \".join(toks[:gu_idx+1])  # … 시 … 구\n",
        "        else:\n",
        "            return \" \".join(toks[:si_idx+1])  # … 시\n",
        "    # 시/군이 없고 구만 있다면 구까지\n",
        "    if gu_idx is not None:\n",
        "        return \" \".join(toks[:gu_idx+1])\n",
        "\n",
        "    # 규칙 매칭 실패 시 원본 반환\n",
        "    return name\n",
        "\n",
        "# ---------------------------------------\n",
        "# 2) 지역_매칭 만들고 해당 단위로 재집계\n",
        "# ---------------------------------------\n",
        "df_matched = df_sorted.copy()\n",
        "df_matched[\"지역_매칭\"] = df_matched[\"지역\"].apply(extract_match_region)\n",
        "\n",
        "# (전체는 이미 포함되어 있으므로 그대로 유지해도 되지만,\n",
        "#  혹시를 위해 '전체'는 다시 계산하는 버전으로 만드는 게 안전하다면 아래처럼 재계산하세요.)\n",
        "# 먼저 생활/비생활/기타만 필터\n",
        "df_base = df_matched[df_matched[\"구분\"].isin([\"생활형\", \"비생활형\", \"기타\"])]\n",
        "\n",
        "# 지역_매칭 × 연도 × 분기 × 구분 합계\n",
        "df_grp = (\n",
        "    df_base.groupby([\"지역_매칭\", \"연도\", \"분기\", \"구분\"], as_index=False)[\"소비금액\"]\n",
        "          .sum()\n",
        ")\n",
        "\n",
        "# 전체 합계(생활+비생활+기타)\n",
        "df_total = (\n",
        "    df_grp.groupby([\"지역_매칭\", \"연도\", \"분기\"], as_index=False)[\"소비금액\"]\n",
        "          .sum()\n",
        ")\n",
        "df_total[\"구분\"] = \"전체\"\n",
        "\n",
        "# 합치기\n",
        "df_out = pd.concat([df_grp, df_total], ignore_index=True)\n",
        "\n",
        "# 보기 좋은 단위\n",
        "df_out[\"소비금액(억)\"] = (df_out[\"소비금액\"] / 1e8).round(1)\n",
        "df_out[\"소비금액(억표시)\"] = df_out[\"소비금액(억)\"].apply(lambda x: f\"{x:,.1f} 억원\")\n",
        "\n",
        "# 정렬: 연도, 분기 오름차순 / 소비금액 내림차순\n",
        "df_out = df_out.sort_values(\n",
        "    by=[\"연도\", \"분기\", \"소비금액\"],\n",
        "    ascending=[True, True, False]\n",
        ").reset_index(drop=True)\n",
        "\n",
        "# 저장\n",
        "save_path = \"/content/drive/MyDrive/my_ws/SeSAC_Python/경기_카드소비_시군구기준_생활비생활_전체합계포함.csv\"\n",
        "df_out.to_csv(save_path, index=False, encoding=\"utf-8-sig\")\n",
        "print(\"✅ 시/구 기준으로 재집계 완료:\", save_path)\n",
        "print(df_out.head(10))"
      ],
      "metadata": {
        "colab": {
          "base_uri": "https://localhost:8080/"
        },
        "id": "nzMVaVdn2L13",
        "outputId": "1475fcbc-5e3b-4d8c-9dc1-7362cf7f43b5"
      },
      "execution_count": null,
      "outputs": [
        {
          "output_type": "stream",
          "name": "stdout",
          "text": [
            "✅ 시/구 기준으로 재집계 완료: /content/drive/MyDrive/my_ws/SeSAC_Python/경기_카드소비_시군구기준_생활비생활_전체합계포함.csv\n",
            "         지역_매칭    연도  분기   구분          소비금액  소비금액(억)   소비금액(억표시)\n",
            "0      경기도 화성시  2024   1   전체  267037757226   2670.4  2,670.4 억원\n",
            "1      경기도 화성시  2024   1  생활형  200397707035   2004.0  2,004.0 억원\n",
            "2  경기도 수원시 영통구  2024   1   전체  159391467964   1593.9  1,593.9 억원\n",
            "3  경기도 수원시 영통구  2024   1  생활형  148284566769   1482.8  1,482.8 억원\n",
            "4  경기도 안산시 단원구  2024   1   전체   96587649854    965.9    965.9 억원\n",
            "5  경기도 안산시 단원구  2024   1  생활형   89956716514    899.6    899.6 억원\n",
            "6      경기도 화성시  2024   1   기타   60229711148    602.3    602.3 억원\n",
            "7  경기도 수원시 팔달구  2024   1   전체   54109669250    541.1    541.1 억원\n",
            "8  경기도 수원시 팔달구  2024   1  생활형   52431339310    524.3    524.3 억원\n",
            "9  경기도 안산시 상록구  2024   1   전체   38221367646    382.2    382.2 억원\n"
          ]
        }
      ]
    },
    {
      "cell_type": "code",
      "source": [
        "import re\n",
        "import pandas as pd\n",
        "\n",
        "# df_sorted 가 기존 카드소비 데이터 (지역, 연도, 분기, 구분, 소비금액 …)\n",
        "df_sorted= pd.read_csv('/content/drive/MyDrive/my_ws/SeSAC_Python/경기_카드소비_시군구_분기별_생활비생활_전체합계포함.csv')\n",
        "# ---------------------------------------\n",
        "# 1) \"시/군\"까지만 추출하는 함수\n",
        "# ---------------------------------------\n",
        "def extract_city(name: str) -> str:\n",
        "    \"\"\"\n",
        "    예시\n",
        "    - '경기도 수원시 영통구 광교1동' -> '경기도 수원시'\n",
        "    - '경기도 과천시 별양동'         -> '경기도 과천시'\n",
        "    - '경기도 양평군 양평읍'         -> '경기도 양평군'\n",
        "    \"\"\"\n",
        "    if not isinstance(name, str):\n",
        "        return name\n",
        "    toks = name.split()\n",
        "\n",
        "    for i, t in enumerate(toks):\n",
        "        if t.endswith(\"시\") or t.endswith(\"군\"):   # 시 / 군 찾으면 거기까지 반환\n",
        "            return \" \".join(toks[:i+1])\n",
        "    return name\n",
        "\n",
        "# ---------------------------------------\n",
        "# 2) 지역_시 기준으로 집계\n",
        "# ---------------------------------------\n",
        "df_city = df_sorted.copy()\n",
        "df_city[\"지역_시\"] = df_city[\"지역\"].apply(extract_city)\n",
        "\n",
        "# 우선 생활형/비생활형/기타만 합산\n",
        "df_base = df_city[df_city[\"구분\"].isin([\"생활형\",\"비생활형\",\"기타\"])]\n",
        "\n",
        "df_grp = (\n",
        "    df_base.groupby([\"지역_시\",\"연도\",\"분기\",\"구분\"], as_index=False)[\"소비금액\"]\n",
        "           .sum()\n",
        ")\n",
        "\n",
        "# 전체 추가\n",
        "df_total = (\n",
        "    df_grp.groupby([\"지역_시\",\"연도\",\"분기\"], as_index=False)[\"소비금액\"]\n",
        "          .sum()\n",
        ")\n",
        "df_total[\"구분\"] = \"전체\"\n",
        "\n",
        "df_out = pd.concat([df_grp, df_total], ignore_index=True)\n",
        "\n",
        "# 보기 좋은 단위\n",
        "df_out[\"소비금액(억)\"] = (df_out[\"소비금액\"] / 1e8).round(1)\n",
        "df_out[\"소비금액(억표시)\"] = df_out[\"소비금액(억)\"].apply(lambda x: f\"{x:,.1f} 억원\")\n",
        "\n",
        "# 정렬\n",
        "df_out = df_out.sort_values(\n",
        "    by=[\"연도\",\"분기\",\"소비금액\"],\n",
        "    ascending=[True,True,False]\n",
        ").reset_index(drop=True)\n",
        "\n",
        "# 저장\n",
        "save_path = \"/content/drive/MyDrive/my_ws/SeSAC_Python/경기_카드소비_시기준_생활비생활_전체합계포함.csv\"\n",
        "df_out.to_csv(save_path, index=False, encoding=\"utf-8-sig\")\n",
        "\n",
        "print(\"✅ 시 단위 집계 완료:\", save_path)\n",
        "print(df_out.head(10))"
      ],
      "metadata": {
        "colab": {
          "base_uri": "https://localhost:8080/"
        },
        "id": "9EUNKrqNA2qH",
        "outputId": "0dee59c0-9212-4873-d961-d83dc18a0c51"
      },
      "execution_count": 4,
      "outputs": [
        {
          "output_type": "stream",
          "name": "stdout",
          "text": [
            "✅ 시 단위 집계 완료: /content/drive/MyDrive/my_ws/SeSAC_Python/경기_카드소비_시기준_생활비생활_전체합계포함.csv\n",
            "      지역_시    연도  분기   구분          소비금액  소비금액(억)   소비금액(억표시)\n",
            "0  경기도 화성시  2024   1   전체  267037757226   2670.4  2,670.4 억원\n",
            "1  경기도 수원시  2024   1   전체  244732600664   2447.3  2,447.3 억원\n",
            "2  경기도 수원시  2024   1  생활형  229685610348   2296.9  2,296.9 억원\n",
            "3  경기도 화성시  2024   1  생활형  200397707035   2004.0  2,004.0 억원\n",
            "4  경기도 안산시  2024   1   전체  134809017500   1348.1  1,348.1 억원\n",
            "5  경기도 안산시  2024   1  생활형  126676002601   1266.8  1,266.8 억원\n",
            "6  경기도 화성시  2024   1   기타   60229711148    602.3    602.3 억원\n",
            "7  경기도 안양시  2024   1   전체   49236567811    492.4    492.4 억원\n",
            "8  경기도 안양시  2024   1  생활형   44292990710    442.9    442.9 억원\n",
            "9  경기도 하남시  2024   1   전체   26749120747    267.5    267.5 억원\n"
          ]
        }
      ]
    },
    {
      "cell_type": "markdown",
      "source": [
        "# 아파트 매매 지수/전세 지수 전처리"
      ],
      "metadata": {
        "id": "fz6kQPNx5xsU"
      }
    },
    {
      "cell_type": "code",
      "source": [
        "import pandas as pd\n",
        "\n",
        "# 파일 읽기\n",
        "df = pd.read_excel(\"/content/drive/MyDrive/my_ws/SeSAC_Python/파이썬 프젝 데이터 모음/(월) 지역별 매매지수_아파트.xlsx\")\n",
        "\n",
        "# 2024년 컬럼만 선택\n",
        "cols_2024 = [\"2024년 1월\",\"2024년 2월\",\"2024년 3월\",\n",
        "             \"2024년 4월\",\"2024년 5월\",\"2024년 6월\",\n",
        "             \"2024년 7월\",\"2024년 8월\",\"2024년 9월\",\n",
        "             \"2024년 10월\",\"2024년 11월\",\"2024년 12월\"]\n",
        "\n",
        "df_2024 = df.loc[:, [\"지역\"] + cols_2024].copy()\n",
        "\n",
        "# 모든 월 컬럼 숫자로 변환 (문자 → NaN)\n",
        "for col in cols_2024:\n",
        "    df_2024[col] = pd.to_numeric(df_2024[col], errors=\"coerce\")\n",
        "\n",
        "# 분기별 평균 계산\n",
        "df_2024[\"2024_1분기\"] = df_2024[[\"2024년 1월\",\"2024년 2월\",\"2024년 3월\"]].mean(axis=1, skipna=True)\n",
        "df_2024[\"2024_2분기\"] = df_2024[[\"2024년 4월\",\"2024년 5월\",\"2024년 6월\"]].mean(axis=1, skipna=True)\n",
        "df_2024[\"2024_3분기\"] = df_2024[[\"2024년 7월\",\"2024년 8월\",\"2024년 9월\"]].mean(axis=1, skipna=True)\n",
        "df_2024[\"2024_4분기\"] = df_2024[[\"2024년 10월\",\"2024년 11월\",\"2024년 12월\"]].mean(axis=1, skipna=True)\n",
        "\n",
        "# 최종 테이블\n",
        "df_final = df_2024[[\"지역\",\"2024_1분기\",\"2024_2분기\",\"2024_3분기\",\"2024_4분기\"]]\n",
        "\n",
        "# 저장\n",
        "df_final.to_csv(\"/content/drive/MyDrive/my_ws/SeSAC_Python/매매지수_2024분기.csv\", index=False, encoding=\"utf-8-sig\")\n",
        "\n",
        "print(df_final.head())"
      ],
      "metadata": {
        "colab": {
          "base_uri": "https://localhost:8080/"
        },
        "id": "xHlXlzswiIr-",
        "outputId": "6a19b823-f450-4a3a-f185-0410ef1b4eed"
      },
      "execution_count": null,
      "outputs": [
        {
          "output_type": "stream",
          "name": "stdout",
          "text": [
            "    지역    2024_1분기    2024_2분기    2024_3분기    2024_4분기\n",
            "0   지역         NaN         NaN         NaN         NaN\n",
            "1   전국  122.800000  123.000000  125.000000  124.733333\n",
            "2  수도권  141.500000  143.033333  147.100000  147.100000\n",
            "3   지방  107.233333  106.433333  106.600000  106.166667\n",
            "4   서울  159.333333  162.500000  170.033333  171.066667\n"
          ]
        },
        {
          "output_type": "stream",
          "name": "stderr",
          "text": [
            "/usr/local/lib/python3.12/dist-packages/openpyxl/styles/stylesheet.py:237: UserWarning: Workbook contains no default style, apply openpyxl's default\n",
            "  warn(\"Workbook contains no default style, apply openpyxl's default\")\n"
          ]
        }
      ]
    },
    {
      "cell_type": "code",
      "source": [
        "import pandas as pd\n",
        "\n",
        "# 파일 읽기\n",
        "df = pd.read_excel(\"/content/drive/MyDrive/my_ws/SeSAC_Python/파이썬 프젝 데이터 모음/(월) 지역별 전세지수_아파트.xlsx\")\n",
        "\n",
        "# 2024년 컬럼만 선택\n",
        "cols_2024 = [\"2024년 1월\",\"2024년 2월\",\"2024년 3월\",\n",
        "             \"2024년 4월\",\"2024년 5월\",\"2024년 6월\",\n",
        "             \"2024년 7월\",\"2024년 8월\",\"2024년 9월\",\n",
        "             \"2024년 10월\",\"2024년 11월\",\"2024년 12월\"]\n",
        "\n",
        "df_2024 = df.loc[:, [\"지역\"] + cols_2024].copy()\n",
        "\n",
        "# 모든 월 컬럼 숫자로 변환 (문자 → NaN)\n",
        "for col in cols_2024:\n",
        "    df_2024[col] = pd.to_numeric(df_2024[col], errors=\"coerce\")\n",
        "\n",
        "# 분기별 평균 계산\n",
        "df_2024[\"2024_1분기\"] = df_2024[[\"2024년 1월\",\"2024년 2월\",\"2024년 3월\"]].mean(axis=1, skipna=True)\n",
        "df_2024[\"2024_2분기\"] = df_2024[[\"2024년 4월\",\"2024년 5월\",\"2024년 6월\"]].mean(axis=1, skipna=True)\n",
        "df_2024[\"2024_3분기\"] = df_2024[[\"2024년 7월\",\"2024년 8월\",\"2024년 9월\"]].mean(axis=1, skipna=True)\n",
        "df_2024[\"2024_4분기\"] = df_2024[[\"2024년 10월\",\"2024년 11월\",\"2024년 12월\"]].mean(axis=1, skipna=True)\n",
        "\n",
        "# 최종 테이블\n",
        "df_final = df_2024[[\"지역\",\"2024_1분기\",\"2024_2분기\",\"2024_3분기\",\"2024_4분기\"]]\n",
        "\n",
        "# 저장\n",
        "df_final.to_csv(\"/content/drive/MyDrive/my_ws/SeSAC_Python/전세지수_2024분기.csv\", index=False, encoding=\"utf-8-sig\")\n",
        "\n",
        "print(df_final.head())"
      ],
      "metadata": {
        "colab": {
          "base_uri": "https://localhost:8080/"
        },
        "id": "OMCdVA-BOSAL",
        "outputId": "f1773cac-2503-41f9-d3e4-62f07ed3abd7"
      },
      "execution_count": null,
      "outputs": [
        {
          "output_type": "stream",
          "name": "stdout",
          "text": [
            "    지역    2024_1분기    2024_2분기    2024_3분기    2024_4분기\n",
            "0   지역         NaN         NaN         NaN         NaN\n",
            "1   지역         NaN         NaN         NaN         NaN\n",
            "2   전국  120.733333  122.166667  124.133333  123.666667\n",
            "3  수도권  123.766667  125.966667  128.366667  127.466667\n",
            "4   지방  114.733333  114.300000  115.266667  115.833333\n"
          ]
        },
        {
          "output_type": "stream",
          "name": "stderr",
          "text": [
            "/usr/local/lib/python3.12/dist-packages/openpyxl/styles/stylesheet.py:237: UserWarning: Workbook contains no default style, apply openpyxl's default\n",
            "  warn(\"Workbook contains no default style, apply openpyxl's default\")\n"
          ]
        }
      ]
    },
    {
      "cell_type": "markdown",
      "source": [],
      "metadata": {
        "id": "lJeBcpkvKiIc"
      }
    },
    {
      "cell_type": "code",
      "source": [
        "import pandas as pd\n",
        "import zipfile, glob, os, io\n",
        "\n",
        "# ======================\n",
        "# 0. 경로 설정\n",
        "# ======================\n",
        "zip_folder = \"/content/drive/MyDrive/my_ws/SeSAC_Python/파이썬 프젝 데이터 모음\"\n",
        "code_path = \"/content/drive/MyDrive/my_ws/SeSAC_Python/경기도_행정구역코드_시군구.csv\"\n",
        "\n",
        "# ======================\n",
        "# 1) 생활형 / 비생활형 기준\n",
        "# ======================\n",
        "living_keywords = [\n",
        "    \"건강/기호식품\",\"서적/도서\",\"선물/완구\",\"스포츠/레져용품\",\"음/식료품소매\",\n",
        "    \"의복/의류\",\"인테리어/가정용품\",\"종합소매점\",\"패션잡화\",\"기타용품\",\n",
        "    \"가전제품\",\"유아용품\",\"화장품소매\",\n",
        "    \"세탁/가사서비스\",\"수리서비스\",\"보안/운송\",\"연료판매\",\"사우나/휴게시설\",\n",
        "    \"차량관리/서비스\",\"차량관리/부품\",\"음식배달서비스\",\"교통서비스\",\"미용서비스\",\n",
        "    \"의약/의료품\",\"일반병원\",\"종합병원\",\"특화병원\",\"수의업\",\"기타의료\",\n",
        "    \"입시학원\",\"유아교육\",\"외국어학원\",\"예체능계학원\",\"독서실/고시원\",\n",
        "    \"기타교육\",\"기술/직업교육학원\",\"자동차학원\",\n",
        "    \"고기요리\",\"닭/오리요리\",\"별식/퓨전요리\",\"부페\",\"분식\",\"양식\",\n",
        "    \"일식/수산물\",\"제과/제빵/떡/케익\",\"중식\",\"커피/음료\",\"패스트푸드\",\"한식\"\n",
        "]\n",
        "\n",
        "nonliving_keywords = [\n",
        "    \"경기관람\",\"공연관람\",\"문화서비스\",\"전시장\",\"방송/미디어\",\n",
        "    \"악기/공예\",\"숙박\",\"요가/단전/마사지\",\"일반스포츠\",\"취미/오락\",\n",
        "    \"간이주점\",\"유흥주점\",\"여행/유학대행\"\n",
        "]\n",
        "\n",
        "def classify_use(name: str) -> str:\n",
        "    \"\"\"업종명을 생활형/비생활형/기타로 분류\"\"\"\n",
        "    if not isinstance(name, str) or not name.strip():\n",
        "        return \"미분류\"\n",
        "    n = name.strip()\n",
        "    if n in living_keywords:\n",
        "        return \"생활형\"\n",
        "    if n in nonliving_keywords:\n",
        "        return \"비생활형\"\n",
        "    return \"기타\"\n",
        "\n",
        "# ======================\n",
        "# 2. 행정구역 코드 매핑 (시군구 단위)\n",
        "# ======================\n",
        "code_map = pd.read_csv(code_path, dtype=str)\n",
        "code_map = code_map.rename(columns={\"ADM_CD\": \"admi_cty_no\", \"ADM_SECT_NM\": \"지역명\"})\n",
        "code_map[\"admi_cty_no\"] = code_map[\"admi_cty_no\"].str[:5]  # 시군구 단위 코드만 사용\n",
        "\n",
        "# ======================\n",
        "# 3. ZIP 파일 탐색 & 처리\n",
        "# ======================\n",
        "zip_files = glob.glob(os.path.join(zip_folder, \"*.zip\"))\n",
        "df_list = []\n",
        "\n",
        "for zf in zip_files:\n",
        "    base = os.path.basename(zf)\n",
        "    year = int(base[-10:-6])\n",
        "    month = int(base[-6:-4])\n",
        "    quarter = (month - 1) // 3 + 1\n",
        "\n",
        "    with zipfile.ZipFile(zf, 'r') as zip_ref:\n",
        "        for fname in zip_ref.namelist():\n",
        "            if not fname.endswith(\".csv\"):\n",
        "                continue\n",
        "            with zip_ref.open(fname) as f:\n",
        "                # 인코딩 시도\n",
        "                try:\n",
        "                    temp = pd.read_csv(f, encoding=\"utf-8\")\n",
        "                except:\n",
        "                    try:\n",
        "                        f.seek(0)\n",
        "                        temp = pd.read_csv(f, encoding=\"cp949\")\n",
        "                    except:\n",
        "                        f.seek(0)\n",
        "                        temp = pd.read_csv(io.TextIOWrapper(f, encoding=\"latin1\", errors=\"replace\"))\n",
        "\n",
        "                # 필요한 컬럼 확인\n",
        "                needed_cols = {\"amt\", \"admi_cty_no\", \"card_tpbuz_nm_2\"}\n",
        "                if not needed_cols.issubset(temp.columns):\n",
        "                    if \"admi_dong_no\" in temp.columns and \"admi_cty_no\" not in temp.columns:\n",
        "                        temp = temp.rename(columns={\"admi_dong_no\": \"admi_cty_no\"})\n",
        "                        if not needed_cols.issubset(temp.columns):\n",
        "                            continue\n",
        "                    else:\n",
        "                        continue\n",
        "\n",
        "                # 동단위 코드 → 시군구 코드로 변환\n",
        "                temp[\"admi_cty_no\"] = temp[\"admi_cty_no\"].astype(str).str[:5]\n",
        "\n",
        "                # 업종 분류\n",
        "                temp[\"card_tpbuz_nm_2\"] = temp[\"card_tpbuz_nm_2\"].astype(str).str.strip()\n",
        "                temp[\"구분\"] = temp[\"card_tpbuz_nm_2\"].apply(classify_use)\n",
        "\n",
        "                grouped = temp.groupby([\"admi_cty_no\", \"구분\"], as_index=False)[\"amt\"].sum()\n",
        "                grouped[\"연도\"] = year\n",
        "                grouped[\"분기\"] = quarter\n",
        "                df_list.append(grouped)\n",
        "\n",
        "# ======================\n",
        "# 4. 통합 및 매핑\n",
        "# ======================\n",
        "df_final = pd.concat(df_list, ignore_index=True)\n",
        "df_final[\"admi_cty_no\"] = df_final[\"admi_cty_no\"].astype(str)\n",
        "\n",
        "# 시군구 단위 매핑\n",
        "df_final = df_final.merge(code_map, on=\"admi_cty_no\", how=\"left\")\n",
        "\n",
        "# 매핑 안 된 지역 확인\n",
        "missing = df_final[df_final[\"지역명\"].isna()]\n",
        "print(\"❌ 매핑 안 된 행 개수:\", len(missing))\n",
        "if len(missing) > 0:\n",
        "    print(missing[\"admi_cty_no\"].unique()[:20])\n",
        "\n",
        "# ======================\n",
        "# 5. 컬럼 정리 & 분기 합산\n",
        "# ======================\n",
        "df_final = (\n",
        "    df_final\n",
        "    .groupby([\"지역명\", \"연도\", \"분기\", \"구분\"], as_index=False)[\"amt\"]\n",
        "    .sum()\n",
        "    .rename(columns={\"amt\": \"소비금액\", \"지역명\": \"지역\"})\n",
        ")\n",
        "\n",
        "# 전체 합계 추가\n",
        "df_total = df_final.groupby([\"지역\",\"연도\",\"분기\"], as_index=False)[\"소비금액\"].sum()\n",
        "df_total[\"구분\"] = \"전체\"\n",
        "df_final = pd.concat([df_final, df_total], ignore_index=True)\n",
        "\n",
        "# 보기 좋은 단위\n",
        "df_final[\"소비금액(억)\"] = (df_final[\"소비금액\"] / 1e8).round(1)\n",
        "df_final[\"소비금액(억표시)\"] = df_final[\"소비금액(억)\"].apply(lambda x: f\"{x:,.1f} 억원\")\n",
        "\n",
        "# 정렬\n",
        "df_sorted = df_final.sort_values(\n",
        "    by=[\"연도\",\"분기\",\"소비금액\"],\n",
        "    ascending=[True, True, False]\n",
        ").reset_index(drop=True)\n",
        "\n",
        "# 저장\n",
        "output_path = \"/content/drive/MyDrive/my_ws/SeSAC_Python/경기_카드소비_시군구_분기별.csv\"\n",
        "df_sorted.to_csv(output_path, index=False, encoding=\"utf-8-sig\")\n",
        "\n",
        "print(\"✅ 최종 데이터 생성 완료:\", output_path)\n",
        "print(df_sorted.head(15))"
      ],
      "metadata": {
        "colab": {
          "base_uri": "https://localhost:8080/"
        },
        "id": "lI2hZlo8FfQb",
        "outputId": "1f80cf3d-40a7-40ac-a29c-6d070d583147"
      },
      "execution_count": 11,
      "outputs": [
        {
          "output_type": "stream",
          "name": "stdout",
          "text": [
            "❌ 매핑 안 된 행 개수: 0\n",
            "✅ 최종 데이터 생성 완료: /content/drive/MyDrive/my_ws/SeSAC_Python/경기_카드소비_시군구_분기별.csv\n",
            "                 지역    연도  분기   구분           소비금액  소비금액(억)    소비금액(억표시)\n",
            "0           경기도 화성시  2024   1   전체  2323618245912  23236.2  23,236.2 억원\n",
            "1      경기도 화성시 동탄6동  2024   1   전체  2323618245912  23236.2  23,236.2 억원\n",
            "2       경기도 화성시 양감면  2024   1   전체  2323618245912  23236.2  23,236.2 억원\n",
            "3   경기도 화성시 양감면 대양리  2024   1   전체  2323618245912  23236.2  23,236.2 억원\n",
            "4   경기도 화성시 양감면 사창리  2024   1   전체  2323618245912  23236.2  23,236.2 억원\n",
            "5   경기도 화성시 양감면 송산리  2024   1   전체  2323618245912  23236.2  23,236.2 억원\n",
            "6   경기도 화성시 양감면 신왕리  2024   1   전체  2323618245912  23236.2  23,236.2 억원\n",
            "7   경기도 화성시 양감면 요당리  2024   1   전체  2323618245912  23236.2  23,236.2 억원\n",
            "8   경기도 화성시 양감면 용소리  2024   1   전체  2323618245912  23236.2  23,236.2 억원\n",
            "9   경기도 화성시 양감면 정문리  2024   1   전체  2323618245912  23236.2  23,236.2 억원\n",
            "10          경기도 화성시  2024   1  생활형  1733672094477  17336.7  17,336.7 억원\n",
            "11     경기도 화성시 동탄6동  2024   1  생활형  1733672094477  17336.7  17,336.7 억원\n",
            "12      경기도 화성시 양감면  2024   1  생활형  1733672094477  17336.7  17,336.7 억원\n",
            "13  경기도 화성시 양감면 대양리  2024   1  생활형  1733672094477  17336.7  17,336.7 억원\n",
            "14  경기도 화성시 양감면 사창리  2024   1  생활형  1733672094477  17336.7  17,336.7 억원\n"
          ]
        }
      ]
    }
  ]
}